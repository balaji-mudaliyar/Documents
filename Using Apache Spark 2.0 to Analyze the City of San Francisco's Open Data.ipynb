{
 "cells": [
  {
   "cell_type": "markdown",
   "metadata": {},
   "source": [
    "### Fire Department Calls for Service Dataset: \n",
    "https://data.sfgov.org/Public-Safety/Fire-Department-Calls-for-Service/nuek-vuh3/data\n",
    "\n",
    "Load Fire Department Calls for Service Dataset to DataFrame"
   ]
  },
  {
   "cell_type": "code",
   "execution_count": 1,
   "metadata": {},
   "outputs": [],
   "source": [
    "from pyspark.sql import SparkSession"
   ]
  },
  {
   "cell_type": "code",
   "execution_count": 2,
   "metadata": {},
   "outputs": [],
   "source": [
    "spark1 = SparkSession.builder.appName('Ops').getOrCreate()"
   ]
  },
  {
   "cell_type": "code",
   "execution_count": 3,
   "metadata": {},
   "outputs": [],
   "source": [
    "df= spark1.read.csv('Fire_Department_Calls_for_Service.csv',header= True, inferSchema = True)"
   ]
  },
  {
   "cell_type": "code",
   "execution_count": 4,
   "metadata": {},
   "outputs": [
    {
     "name": "stdout",
     "output_type": "stream",
     "text": [
      "root\n",
      " |-- Call Number: integer (nullable = true)\n",
      " |-- Unit ID: string (nullable = true)\n",
      " |-- Incident Number: integer (nullable = true)\n",
      " |-- Call Type: string (nullable = true)\n",
      " |-- Call Date: string (nullable = true)\n",
      " |-- Watch Date: string (nullable = true)\n",
      " |-- Received DtTm: string (nullable = true)\n",
      " |-- Entry DtTm: string (nullable = true)\n",
      " |-- Dispatch DtTm: string (nullable = true)\n",
      " |-- Response DtTm: string (nullable = true)\n",
      " |-- On Scene DtTm: string (nullable = true)\n",
      " |-- Transport DtTm: string (nullable = true)\n",
      " |-- Hospital DtTm: string (nullable = true)\n",
      " |-- Call Final Disposition: string (nullable = true)\n",
      " |-- Available DtTm: string (nullable = true)\n",
      " |-- Address: string (nullable = true)\n",
      " |-- City: string (nullable = true)\n",
      " |-- Zipcode of Incident: integer (nullable = true)\n",
      " |-- Battalion: string (nullable = true)\n",
      " |-- Station Area: string (nullable = true)\n",
      " |-- Box: string (nullable = true)\n",
      " |-- Original Priority: string (nullable = true)\n",
      " |-- Priority: string (nullable = true)\n",
      " |-- Final Priority: integer (nullable = true)\n",
      " |-- ALS Unit: boolean (nullable = true)\n",
      " |-- Call Type Group: string (nullable = true)\n",
      " |-- Number of Alarms: integer (nullable = true)\n",
      " |-- Unit Type: string (nullable = true)\n",
      " |-- Unit sequence in call dispatch: integer (nullable = true)\n",
      " |-- Fire Prevention District: string (nullable = true)\n",
      " |-- Supervisor District: string (nullable = true)\n",
      " |-- Neighborhooods - Analysis Boundaries: string (nullable = true)\n",
      " |-- Location: string (nullable = true)\n",
      " |-- RowID: string (nullable = true)\n",
      "\n"
     ]
    }
   ],
   "source": [
    "df.printSchema()"
   ]
  },
  {
   "cell_type": "code",
   "execution_count": 5,
   "metadata": {},
   "outputs": [],
   "source": [
    "from pyspark.sql.types import StructType, StructField, IntegerType, StringType, BooleanType"
   ]
  },
  {
   "cell_type": "code",
   "execution_count": 6,
   "metadata": {},
   "outputs": [],
   "source": [
    "fireSchema = StructType([StructField('CallNumber', IntegerType(), True),\n",
    "                         StructField('UnitID', StringType(), True),\n",
    "                         StructField('IncidentNumber', IntegerType(), True),\n",
    "                         StructField('CallType', StringType(), True),\n",
    "                         StructField('CallDate', StringType(), True),\n",
    "                         StructField('WatchDate', StringType(), True),\n",
    "                         StructField('ReceivedDtTm', StringType(), True),\n",
    "                         StructField('EntryDtTm', StringType(), True),\n",
    "                         StructField('DispatchDtTm', StringType(), True),\n",
    "                         StructField('ResponseDtTm', StringType(), True),\n",
    "                         StructField('OnSceneDtTm', StringType(), True),\n",
    "                         StructField('TransportDtTm', StringType(), True),\n",
    "                         StructField('HospitalDtTm', StringType(), True),\n",
    "                         StructField('CallFinalDisposition', StringType(), True),\n",
    "                         StructField('AvailableDtTm', StringType(), True),\n",
    "                         StructField('Address', StringType(), True),\n",
    "                         StructField('City', StringType(), True),\n",
    "                         StructField('ZipcodeofIncident', IntegerType(), True),                         \n",
    "                         StructField('Battalion', StringType(), True),\n",
    "                         StructField('StationArea', StringType(), True),\n",
    "                         StructField('Box', StringType(), True),\n",
    "                         StructField('OriginalPriority', StringType(), True),\n",
    "                         StructField('Priority', StringType(), True),                         \n",
    "                         StructField('FinalPriority', IntegerType(), True),                         \n",
    "                         StructField('ALSUnit', BooleanType(), True),\n",
    "                         StructField('CallTypeGroup', StringType(), True),                         \n",
    "                         StructField('NumberofAlarms', IntegerType(), True),\n",
    "                         StructField('UnitType', StringType(), True),                         \n",
    "                         StructField('Unitsequenceincalldispatch', IntegerType(), True),\n",
    "                         StructField('FirePreventionDistrict', StringType(), True),       \n",
    "                         StructField('SupervisorDistrict', StringType(), True),       \n",
    "                         StructField('NeighborhoodDistrict', StringType(), True),       \n",
    "                         StructField('Location', StringType(), True),       \n",
    "                         StructField('RowID', StringType(), True)])"
   ]
  },
  {
   "cell_type": "code",
   "execution_count": 7,
   "metadata": {},
   "outputs": [],
   "source": [
    "fireServiceCallsDF = spark.read.csv('Fire_Department_Calls_for_Service.csv', header=True, schema=fireSchema)"
   ]
  },
  {
   "cell_type": "code",
   "execution_count": 8,
   "metadata": {},
   "outputs": [
    {
     "data": {
      "text/plain": [
       "DataFrame[CallNumber: int, UnitID: string, IncidentNumber: int, CallType: string, CallDate: string, WatchDate: string, ReceivedDtTm: string, EntryDtTm: string, DispatchDtTm: string, ResponseDtTm: string, OnSceneDtTm: string, TransportDtTm: string, HospitalDtTm: string, CallFinalDisposition: string, AvailableDtTm: string, Address: string, City: string, ZipcodeofIncident: int, Battalion: string, StationArea: string, Box: string, OriginalPriority: string, Priority: string, FinalPriority: int, ALSUnit: boolean, CallTypeGroup: string, NumberofAlarms: int, UnitType: string, Unitsequenceincalldispatch: int, FirePreventionDistrict: string, SupervisorDistrict: string, NeighborhoodDistrict: string, Location: string, RowID: string]"
      ]
     },
     "metadata": {},
     "output_type": "display_data"
    }
   ],
   "source": [
    "display(fireServiceCallsDF.limit(10))"
   ]
  },
  {
   "cell_type": "code",
   "execution_count": 9,
   "metadata": {},
   "outputs": [
    {
     "data": {
      "text/plain": [
       "['CallNumber',\n",
       " 'UnitID',\n",
       " 'IncidentNumber',\n",
       " 'CallType',\n",
       " 'CallDate',\n",
       " 'WatchDate',\n",
       " 'ReceivedDtTm',\n",
       " 'EntryDtTm',\n",
       " 'DispatchDtTm',\n",
       " 'ResponseDtTm',\n",
       " 'OnSceneDtTm',\n",
       " 'TransportDtTm',\n",
       " 'HospitalDtTm',\n",
       " 'CallFinalDisposition',\n",
       " 'AvailableDtTm',\n",
       " 'Address',\n",
       " 'City',\n",
       " 'ZipcodeofIncident',\n",
       " 'Battalion',\n",
       " 'StationArea',\n",
       " 'Box',\n",
       " 'OriginalPriority',\n",
       " 'Priority',\n",
       " 'FinalPriority',\n",
       " 'ALSUnit',\n",
       " 'CallTypeGroup',\n",
       " 'NumberofAlarms',\n",
       " 'UnitType',\n",
       " 'Unitsequenceincalldispatch',\n",
       " 'FirePreventionDistrict',\n",
       " 'SupervisorDistrict',\n",
       " 'NeighborhoodDistrict',\n",
       " 'Location',\n",
       " 'RowID']"
      ]
     },
     "execution_count": 9,
     "metadata": {},
     "output_type": "execute_result"
    }
   ],
   "source": [
    "fireServiceCallsDF.columns"
   ]
  },
  {
   "cell_type": "code",
   "execution_count": 10,
   "metadata": {},
   "outputs": [],
   "source": [
    "spark1.conf.set(\"spark.sql.repl.eagerEval.enabled\", True)"
   ]
  },
  {
   "cell_type": "code",
   "execution_count": 11,
   "metadata": {},
   "outputs": [
    {
     "name": "stdout",
     "output_type": "stream",
     "text": [
      "+----------+------+--------------+--------------------+----------+----------+--------------------+--------------------+--------------------+--------------------+--------------------+--------------------+--------------------+--------------------+--------------------+--------------------+----+-----------------+---------+-----------+----+----------------+--------+-------------+-------+-------------+--------------+------------+--------------------------+----------------------+------------------+--------------------+--------------------+-------------+\n",
      "|CallNumber|UnitID|IncidentNumber|            CallType|  CallDate| WatchDate|        ReceivedDtTm|           EntryDtTm|        DispatchDtTm|        ResponseDtTm|         OnSceneDtTm|       TransportDtTm|        HospitalDtTm|CallFinalDisposition|       AvailableDtTm|             Address|City|ZipcodeofIncident|Battalion|StationArea| Box|OriginalPriority|Priority|FinalPriority|ALSUnit|CallTypeGroup|NumberofAlarms|    UnitType|Unitsequenceincalldispatch|FirePreventionDistrict|SupervisorDistrict|NeighborhoodDistrict|            Location|        RowID|\n",
      "+----------+------+--------------+--------------------+----------+----------+--------------------+--------------------+--------------------+--------------------+--------------------+--------------------+--------------------+--------------------+--------------------+--------------------+----+-----------------+---------+-----------+----+----------------+--------+-------------+-------+-------------+--------------+------------+--------------------------+----------------------+------------------+--------------------+--------------------+-------------+\n",
      "|   1030101|   E18|        306091|    Medical Incident|04/12/2000|04/12/2000|04/12/2000 09:00:...|04/12/2000 09:01:...|04/12/2000 09:02:...|                null|                null|                null|                null|               Other|                null|2000 Block of 37T...|  SF|            94116|      B08|         18|0757|               3|       3|            3|  false|         null|             1|      ENGINE|                         1|                     8|                 4|     Sunset/Parkside|(37.7487247711275...|001030101-E18|\n",
      "|   1030104|   M14|         30612|    Medical Incident|04/12/2000|04/12/2000|04/12/2000 09:09:...|04/12/2000 09:10:...|04/12/2000 09:10:...|04/12/2000 09:12:...|04/12/2000 09:19:...|04/12/2000 09:43:...|04/12/2000 10:03:...|               Other|04/12/2000 10:23:...|1700 Block of 43R...|  SF|            94122|      B08|         23|7651|               3|       3|            3|   true|         null|             1|       MEDIC|                         2|                     8|                 4|     Sunset/Parkside|(37.7540326780595...|001030104-M14|\n",
      "|   1030106|   M36|         30614|    Medical Incident|04/12/2000|04/12/2000|04/12/2000 09:09:...|04/12/2000 09:10:...|04/12/2000 09:11:...|                null|04/12/2000 09:14:...|04/12/2000 09:59:...|04/12/2000 10:10:...|               Other|04/12/2000 10:43:...|  0 Block of FELL ST|  SF|            94102|      B02|         36|3111|               3|       3|            3|  false|         null|             1|       MEDIC|                         1|                     2|                 6|          Tenderloin|(37.7764405100838...|001030106-M36|\n",
      "|   1030107|   E01|         30615|              Alarms|04/12/2000|04/12/2000|04/12/2000 09:13:...|04/12/2000 09:13:...|04/12/2000 09:14:...|04/12/2000 09:15:...|04/12/2000 09:20:...|                null|                null|               Other|04/12/2000 09:24:...|100 Block of JONE...|  SF|            94102|      B03|         01|1456|               3|       3|            3|  false|         null|             1|      ENGINE|                         3|                     3|                 6|          Tenderloin|(37.7825474000421...|001030107-E01|\n",
      "|   1030108|   RS1|         30616|    Medical Incident|04/12/2000|04/12/2000|04/12/2000 09:14:...|04/12/2000 09:16:...|04/12/2000 09:16:...|04/12/2000 09:18:...|04/12/2000 09:20:...|                null|                null|               Other|04/12/2000 09:20:...|700 Block of MARK...|  SF|            94108|      B03|         01|1322|               3|       3|            3|  false|         null|             1|RESCUE SQUAD|                         2|                     1|                 3|Financial Distric...|(37.7863072236365...|001030108-RS1|\n",
      "|   1030112|   T03|         30620|Citizen Assist / ...|04/12/2000|04/12/2000|04/12/2000 09:24:...|04/12/2000 09:24:...|04/12/2000 09:25:...|04/12/2000 09:27:...|04/12/2000 09:30:...|                null|                null|               Other|04/12/2000 09:44:...|800 Block of SUTT...|  SF|            94109|      B01|         03|1463|               3|       3|            3|  false|         null|             1|       TRUCK|                         1|                     1|                 3|            Nob Hill|(37.7884388430214...|001030112-T03|\n",
      "|   1030116|   E38|         30624|   Electrical Hazard|04/12/2000|04/12/2000|04/12/2000 09:25:...|04/12/2000 09:28:...|04/12/2000 09:28:...|04/12/2000 09:29:...|04/12/2000 09:31:...|                null|                null|               Other|04/12/2000 09:39:...|CALIFORNIA ST/VAN...|  SF|            94109|      B04|         38|3155|               3|       3|            3|  false|         null|             1|      ENGINE|                         1|                     4|                 2|            Nob Hill|(37.7903696585646...|001030116-E38|\n",
      "|   1030117|   E15|         30626|Odor (Strange / U...|04/12/2000|04/12/2000|04/12/2000 09:27:...|04/12/2000 09:28:...|04/12/2000 09:30:...|04/12/2000 09:31:...|04/12/2000 09:34:...|                null|                null|               Other|04/12/2000 09:38:...|2100 Block of ALE...|  SF|            94112|      B09|         15|8331|               3|       3|            3|  false|         null|             1|      ENGINE|                         1|                     9|                11|       Outer Mission|(37.7183153380753...|001030117-E15|\n",
      "|   1030118|   E08|         30625|    Medical Incident|04/12/2000|04/12/2000|04/12/2000 09:27:...|04/12/2000 09:28:...|04/12/2000 09:29:...|04/12/2000 09:31:...|04/12/2000 09:32:...|                null|                null|               Other|04/12/2000 09:45:...|   4TH ST/CHANNEL ST|  SF|             null|      B03|         08|2226|               3|       3|            3|  false|         null|             1|      ENGINE|                         1|                     3|                 6|                None|(37.7750268633971...|001030118-E08|\n",
      "|   1030119|   M17|         30628|    Medical Incident|04/12/2000|04/12/2000|04/12/2000 09:29:...|04/12/2000 09:30:...|04/12/2000 09:31:...|04/12/2000 09:32:...|04/12/2000 09:37:...|04/12/2000 09:48:...|                null|               Other|04/12/2000 10:31:...|1400 Block of NEW...|  SF|            94124|      B10|         17|6516|               1|       1|            2|   true|         null|             1|       MEDIC|                         1|                    10|                10|Bayview Hunters P...|(37.7335924152271...|001030119-M17|\n",
      "|   1030120|   E13|         30627|              Alarms|04/12/2000|04/12/2000|04/12/2000 09:30:...|04/12/2000 09:30:...|04/12/2000 09:31:...|04/12/2000 09:34:...|04/12/2000 09:34:...|                null|                null|               Other|04/12/2000 09:50:...|500 Block of COMM...|  SF|            94111|      B01|         13|1166|               3|       3|            3|  false|         null|             1|      ENGINE|                         1|                     1|                 3|           Chinatown|(37.7942116655012...|001030120-E13|\n",
      "|   1030122|   M18|         30630|    Medical Incident|04/12/2000|04/12/2000|04/12/2000 09:31:...|04/12/2000 09:33:...|04/12/2000 09:34:...|04/12/2000 09:35:...|04/12/2000 09:45:...|                null|                null|               Other|04/12/2000 09:49:...|1800 Block of IRV...|  SF|            94122|      B08|         22|7424|               1|       1|            2|  false|         null|             1|       MEDIC|                         1|                     8|                 4|     Sunset/Parkside|(37.763482287794,...|001030122-M18|\n",
      "|   1030124|   M09|         30633|    Medical Incident|04/12/2000|04/12/2000|04/12/2000 09:41:...|04/12/2000 09:41:...|04/12/2000 09:43:...|04/12/2000 09:46:...|04/12/2000 09:52:...|                null|                null|               Other|04/12/2000 10:00:...| 21ST ST/SHOTWELL ST|  SF|            94110|      B06|         07|5455|               1|       1|            2|   true|         null|             1|       MEDIC|                         1|                     6|                 9|             Mission|(37.7572324112144...|001030124-M09|\n",
      "|   1030127|   E08|         30635|    Medical Incident|04/12/2000|04/12/2000|04/12/2000 09:46:...|04/12/2000 09:46:...|04/12/2000 09:46:...|                null|                null|                null|                null|               Other|04/12/2000 09:48:...|      4TH ST/KING ST|  SF|            94107|      B03|         08|2236|               3|       3|            3|  false|         null|             1|      ENGINE|                         1|                     3|                 6|         Mission Bay|(37.7763329756243...|001030127-E08|\n",
      "|   1030128|   E05|         30636|              Alarms|04/12/2000|04/12/2000|04/12/2000 09:45:...|04/12/2000 09:46:...|04/12/2000 09:46:...|04/12/2000 09:48:...|04/12/2000 09:49:...|                null|                null|               Other|04/12/2000 10:19:...|1400 Block of STE...|  SF|            94115|      B04|         05|3623|               3|       3|            3|  false|         null|             1|      ENGINE|                         1|                     5|                 5|    Western Addition|(37.7826256736324...|001030128-E05|\n",
      "|   1030128|   T06|         30636|              Alarms|04/12/2000|04/12/2000|04/12/2000 09:45:...|04/12/2000 09:46:...|04/12/2000 09:46:...|04/12/2000 09:47:...|04/12/2000 09:50:...|                null|                null|               Other|04/12/2000 10:17:...|1400 Block of STE...|  SF|            94115|      B04|         05|3623|               3|       3|            3|  false|         null|             1|       TRUCK|                         2|                     5|                 5|    Western Addition|(37.7826256736324...|001030128-T06|\n",
      "|   1030130|   M18|         30638|    Medical Incident|04/12/2000|04/12/2000|04/12/2000 09:49:...|04/12/2000 09:50:...|04/12/2000 09:50:...|04/12/2000 09:57:...|04/12/2000 10:02:...|                null|                null|               Other|04/12/2000 10:08:...|3000 Block of VIC...|  SF|            94116|      B08|         18|7637|               2|       2|            2|  false|         null|             1|       MEDIC|                         1|                     8|                 4|     Sunset/Parkside|(37.7383172638778...|001030130-M18|\n",
      "|   1030132|   E39|         30639|               Other|04/12/2000|04/12/2000|04/12/2000 09:53:...|04/12/2000 09:54:...|04/12/2000 09:54:...|                null|04/12/2000 10:05:...|                null|                null|               Other|04/12/2000 10:22:...|500 Block of TERE...|  SF|            94127|      B08|         39|8645|               3|       3|            3|  false|         null|             1|      ENGINE|                         1|                     9|                 7|  West of Twin Peaks|(37.738002083532,...|001030132-E39|\n",
      "|   1030135|   M10|         30642|    Medical Incident|04/12/2000|04/12/2000|04/12/2000 09:57:...|04/12/2000 09:59:...|04/12/2000 09:59:...|04/12/2000 10:00:...|04/12/2000 10:05:...|                null|                null|               Other|04/12/2000 11:16:...|2600 Block of TUR...|  SF|            94118|      B05|         21|4564|               3|       3|            3|  false|         null|             1|       MEDIC|                         1|                     5|                 1|   Lone Mountain/USF|(37.7781665631084...|001030135-M10|\n",
      "|   1030136|   E33|         30644|      Structure Fire|04/12/2000|04/12/2000|04/12/2000 10:04:...|04/12/2000 10:04:...|04/12/2000 10:04:...|04/12/2000 10:06:...|04/12/2000 10:08:...|                null|                null|               Other|04/12/2000 10:10:...| BROAD ST/CAPITOL AV|  SF|            94112|      B09|         33|8374|               3|       3|            3|  false|         null|             1|      ENGINE|                         1|                     9|                11|Oceanview/Merced/...|(37.7131720494385...|001030136-E33|\n",
      "+----------+------+--------------+--------------------+----------+----------+--------------------+--------------------+--------------------+--------------------+--------------------+--------------------+--------------------+--------------------+--------------------+--------------------+----+-----------------+---------+-----------+----+----------------+--------+-------------+-------+-------------+--------------+------------+--------------------------+----------------------+------------------+--------------------+--------------------+-------------+\n",
      "only showing top 20 rows\n",
      "\n"
     ]
    }
   ],
   "source": [
    "fireServiceCallsDF.show()"
   ]
  },
  {
   "cell_type": "code",
   "execution_count": 12,
   "metadata": {},
   "outputs": [
    {
     "data": {
      "text/plain": [
       "4911827"
      ]
     },
     "execution_count": 12,
     "metadata": {},
     "output_type": "execute_result"
    }
   ],
   "source": [
    "fireServiceCallsDF.count()"
   ]
  },
  {
   "cell_type": "code",
   "execution_count": 13,
   "metadata": {},
   "outputs": [
    {
     "name": "stdout",
     "output_type": "stream",
     "text": [
      "+----------------+\n",
      "|        callType|\n",
      "+----------------+\n",
      "|Medical Incident|\n",
      "|Medical Incident|\n",
      "|Medical Incident|\n",
      "|          Alarms|\n",
      "|Medical Incident|\n",
      "+----------------+\n",
      "only showing top 5 rows\n",
      "\n"
     ]
    }
   ],
   "source": [
    "fireServiceCallsDF.select('callType').show(5)"
   ]
  },
  {
   "cell_type": "code",
   "execution_count": 14,
   "metadata": {},
   "outputs": [
    {
     "name": "stdout",
     "output_type": "stream",
     "text": [
      "+--------------------------------------------+\n",
      "|callType                                    |\n",
      "+--------------------------------------------+\n",
      "|Elevator / Escalator Rescue                 |\n",
      "|Marine Fire                                 |\n",
      "|Aircraft Emergency                          |\n",
      "|Confined Space / Structure Collapse         |\n",
      "|Administrative                              |\n",
      "|Alarms                                      |\n",
      "|Odor (Strange / Unknown)                    |\n",
      "|Lightning Strike (Investigation)            |\n",
      "|Citizen Assist / Service Call               |\n",
      "|HazMat                                      |\n",
      "|Watercraft in Distress                      |\n",
      "|Explosion                                   |\n",
      "|Oil Spill                                   |\n",
      "|Vehicle Fire                                |\n",
      "|Suspicious Package                          |\n",
      "|Train / Rail Fire                           |\n",
      "|Extrication / Entrapped (Machinery, Vehicle)|\n",
      "|Other                                       |\n",
      "|Outside Fire                                |\n",
      "|Traffic Collision                           |\n",
      "|Assist Police                               |\n",
      "|Gas Leak (Natural and LP Gases)             |\n",
      "|Water Rescue                                |\n",
      "|Electrical Hazard                           |\n",
      "|High Angle Rescue                           |\n",
      "|Structure Fire                              |\n",
      "|Industrial Accidents                        |\n",
      "|Medical Incident                            |\n",
      "|Mutual Aid / Assist Outside Agency          |\n",
      "|Fuel Spill                                  |\n",
      "|Smoke Investigation (Outside)               |\n",
      "|Train / Rail Incident                       |\n",
      "+--------------------------------------------+\n",
      "\n"
     ]
    }
   ],
   "source": [
    "fireServiceCallsDF.select('callType').distinct().show(35,False)"
   ]
  },
  {
   "cell_type": "markdown",
   "metadata": {},
   "source": [
    "# How many incidents of each call Type  were there ?"
   ]
  },
  {
   "cell_type": "code",
   "execution_count": 15,
   "metadata": {},
   "outputs": [
    {
     "data": {
      "text/html": [
       "<table border='1'>\n",
       "<tr><th>CallType</th><th>count</th></tr>\n",
       "<tr><td>Medical Incident</td><td>3194835</td></tr>\n",
       "<tr><td>Structure Fire</td><td>635873</td></tr>\n",
       "<tr><td>Alarms</td><td>528163</td></tr>\n",
       "<tr><td>Traffic Collision</td><td>201537</td></tr>\n",
       "<tr><td>Other</td><td>78327</td></tr>\n",
       "<tr><td>Citizen Assist / ...</td><td>73771</td></tr>\n",
       "<tr><td>Outside Fire</td><td>58100</td></tr>\n",
       "<tr><td>Water Rescue</td><td>23553</td></tr>\n",
       "<tr><td>Vehicle Fire</td><td>23482</td></tr>\n",
       "<tr><td>Gas Leak (Natural...</td><td>18963</td></tr>\n",
       "<tr><td>Electrical Hazard</td><td>14135</td></tr>\n",
       "<tr><td>Elevator / Escala...</td><td>12980</td></tr>\n",
       "<tr><td>Odor (Strange / U...</td><td>12545</td></tr>\n",
       "<tr><td>Smoke Investigati...</td><td>10889</td></tr>\n",
       "<tr><td>Fuel Spill</td><td>5677</td></tr>\n",
       "<tr><td>HazMat</td><td>3954</td></tr>\n",
       "<tr><td>Industrial Accidents</td><td>2862</td></tr>\n",
       "<tr><td>Explosion</td><td>2612</td></tr>\n",
       "<tr><td>Aircraft Emergency</td><td>1511</td></tr>\n",
       "<tr><td>Assist Police</td><td>1352</td></tr>\n",
       "</table>\n",
       "only showing top 20 rows\n"
      ],
      "text/plain": [
       "+--------------------+-------+\n",
       "|            CallType|  count|\n",
       "+--------------------+-------+\n",
       "|    Medical Incident|3194835|\n",
       "|      Structure Fire| 635873|\n",
       "|              Alarms| 528163|\n",
       "|   Traffic Collision| 201537|\n",
       "|               Other|  78327|\n",
       "|Citizen Assist / ...|  73771|\n",
       "|        Outside Fire|  58100|\n",
       "|        Water Rescue|  23553|\n",
       "|        Vehicle Fire|  23482|\n",
       "|Gas Leak (Natural...|  18963|\n",
       "|   Electrical Hazard|  14135|\n",
       "|Elevator / Escala...|  12980|\n",
       "|Odor (Strange / U...|  12545|\n",
       "|Smoke Investigati...|  10889|\n",
       "|          Fuel Spill|   5677|\n",
       "|              HazMat|   3954|\n",
       "|Industrial Accidents|   2862|\n",
       "|           Explosion|   2612|\n",
       "|  Aircraft Emergency|   1511|\n",
       "|       Assist Police|   1352|\n",
       "+--------------------+-------+\n",
       "only showing top 20 rows"
      ]
     },
     "metadata": {},
     "output_type": "display_data"
    }
   ],
   "source": [
    "display(fireServiceCallsDF.select('callType').groupBy('CallType').count().orderBy(\"count\",ascending=False))"
   ]
  },
  {
   "cell_type": "markdown",
   "metadata": {},
   "source": [
    "# Doing Date/Time Analysis"
   ]
  },
  {
   "cell_type": "markdown",
   "metadata": {},
   "source": [
    "#### Notice  that the date or time columns are currently being interpreted as  strings, rather than date or time objects"
   ]
  },
  {
   "cell_type": "code",
   "execution_count": 16,
   "metadata": {},
   "outputs": [
    {
     "name": "stdout",
     "output_type": "stream",
     "text": [
      "root\n",
      " |-- CallNumber: integer (nullable = true)\n",
      " |-- UnitID: string (nullable = true)\n",
      " |-- IncidentNumber: integer (nullable = true)\n",
      " |-- CallType: string (nullable = true)\n",
      " |-- CallDate: string (nullable = true)\n",
      " |-- WatchDate: string (nullable = true)\n",
      " |-- ReceivedDtTm: string (nullable = true)\n",
      " |-- EntryDtTm: string (nullable = true)\n",
      " |-- DispatchDtTm: string (nullable = true)\n",
      " |-- ResponseDtTm: string (nullable = true)\n",
      " |-- OnSceneDtTm: string (nullable = true)\n",
      " |-- TransportDtTm: string (nullable = true)\n",
      " |-- HospitalDtTm: string (nullable = true)\n",
      " |-- CallFinalDisposition: string (nullable = true)\n",
      " |-- AvailableDtTm: string (nullable = true)\n",
      " |-- Address: string (nullable = true)\n",
      " |-- City: string (nullable = true)\n",
      " |-- ZipcodeofIncident: integer (nullable = true)\n",
      " |-- Battalion: string (nullable = true)\n",
      " |-- StationArea: string (nullable = true)\n",
      " |-- Box: string (nullable = true)\n",
      " |-- OriginalPriority: string (nullable = true)\n",
      " |-- Priority: string (nullable = true)\n",
      " |-- FinalPriority: integer (nullable = true)\n",
      " |-- ALSUnit: boolean (nullable = true)\n",
      " |-- CallTypeGroup: string (nullable = true)\n",
      " |-- NumberofAlarms: integer (nullable = true)\n",
      " |-- UnitType: string (nullable = true)\n",
      " |-- Unitsequenceincalldispatch: integer (nullable = true)\n",
      " |-- FirePreventionDistrict: string (nullable = true)\n",
      " |-- SupervisorDistrict: string (nullable = true)\n",
      " |-- NeighborhoodDistrict: string (nullable = true)\n",
      " |-- Location: string (nullable = true)\n",
      " |-- RowID: string (nullable = true)\n",
      "\n"
     ]
    }
   ],
   "source": [
    "fireServiceCallsDF.printSchema()"
   ]
  },
  {
   "cell_type": "code",
   "execution_count": 17,
   "metadata": {},
   "outputs": [],
   "source": [
    "from pyspark.sql.functions import *"
   ]
  },
  {
   "cell_type": "code",
   "execution_count": 18,
   "metadata": {},
   "outputs": [],
   "source": [
    "# Note Pyspark uses the Java simple Date Format Patterns\n",
    "\n",
    "from_pattern1 = 'MM/dd/yyyy'\n",
    "to_pattern1 = 'yyyy-MM-dd'\n",
    "\n",
    "from_pattern2 = 'MM/dd/yyyy hh:mm:ss aa'\n",
    "to_pattern2 = 'MM/dd/yyyy hh:mm:ss aa'\n",
    "\n",
    "fireServiceCallsTsDF = fireServiceCallsDF \\\n",
    "    .withColumn('CallDateTS',unix_timestamp(fireServiceCallsDF['CallDate'],from_pattern1).cast(\"timestamp\")) \\\n",
    "    .drop('CallDate') \\\n",
    "    .withColumn('WatchDateTS',unix_timestamp(fireServiceCallsDF['WatchDate'],from_pattern1).cast(\"timestamp\")) \\\n",
    "    .drop('WatchDate') \\\n",
    "    .withColumn('ReceivedDtTmTS',unix_timestamp(fireServiceCallsDF['ReceivedDtTm'],from_pattern2).cast(\"timestamp\")) \\\n",
    "    .drop('ReceivedDtTm') \\\n",
    "    .withColumn('EntryDtTmTS',unix_timestamp(fireServiceCallsDF['EntryDtTm'],from_pattern2).cast(\"timestamp\")) \\\n",
    "    .drop('EntryDtTm') \\\n",
    "    .withColumn('DispatchDtTmTS',unix_timestamp(fireServiceCallsDF['DispatchDtTm'],from_pattern2).cast(\"timestamp\")) \\\n",
    "    .drop('DispatchDtTm') \\\n",
    "    .withColumn('ResponseDtTmTS',unix_timestamp(fireServiceCallsDF['ResponseDtTm'],from_pattern2).cast(\"timestamp\")) \\\n",
    "    .drop('ResponseDtTm') \\\n",
    "    .withColumn('OnSceneDtTmTS',unix_timestamp(fireServiceCallsDF['OnSceneDtTm'],from_pattern2).cast(\"timestamp\")) \\\n",
    "    .drop('OnSceneDtTm') \\\n",
    "    .withColumn('TransportDtTmTS',unix_timestamp(fireServiceCallsDF['TransportDtTm'],from_pattern2).cast(\"timestamp\")) \\\n",
    "    .drop('TransportDtTm') \\\n",
    "    .withColumn('HospitalDtTmTS',unix_timestamp(fireServiceCallsDF['HospitalDtTm'],from_pattern2).cast(\"timestamp\")) \\\n",
    "    .drop('HospitalDtTm') \\\n",
    "    .withColumn('AvailableDtTmTS',unix_timestamp(fireServiceCallsDF['AvailableDtTm'],from_pattern2).cast(\"timestamp\")) \\\n",
    "    .drop('AvailableDtTm')\n",
    "\n"
   ]
  },
  {
   "cell_type": "code",
   "execution_count": 19,
   "metadata": {},
   "outputs": [
    {
     "name": "stdout",
     "output_type": "stream",
     "text": [
      "root\n",
      " |-- CallNumber: integer (nullable = true)\n",
      " |-- UnitID: string (nullable = true)\n",
      " |-- IncidentNumber: integer (nullable = true)\n",
      " |-- CallType: string (nullable = true)\n",
      " |-- CallFinalDisposition: string (nullable = true)\n",
      " |-- Address: string (nullable = true)\n",
      " |-- City: string (nullable = true)\n",
      " |-- ZipcodeofIncident: integer (nullable = true)\n",
      " |-- Battalion: string (nullable = true)\n",
      " |-- StationArea: string (nullable = true)\n",
      " |-- Box: string (nullable = true)\n",
      " |-- OriginalPriority: string (nullable = true)\n",
      " |-- Priority: string (nullable = true)\n",
      " |-- FinalPriority: integer (nullable = true)\n",
      " |-- ALSUnit: boolean (nullable = true)\n",
      " |-- CallTypeGroup: string (nullable = true)\n",
      " |-- NumberofAlarms: integer (nullable = true)\n",
      " |-- UnitType: string (nullable = true)\n",
      " |-- Unitsequenceincalldispatch: integer (nullable = true)\n",
      " |-- FirePreventionDistrict: string (nullable = true)\n",
      " |-- SupervisorDistrict: string (nullable = true)\n",
      " |-- NeighborhoodDistrict: string (nullable = true)\n",
      " |-- Location: string (nullable = true)\n",
      " |-- RowID: string (nullable = true)\n",
      " |-- CallDateTS: timestamp (nullable = true)\n",
      " |-- WatchDateTS: timestamp (nullable = true)\n",
      " |-- ReceivedDtTmTS: timestamp (nullable = true)\n",
      " |-- EntryDtTmTS: timestamp (nullable = true)\n",
      " |-- DispatchDtTmTS: timestamp (nullable = true)\n",
      " |-- ResponseDtTmTS: timestamp (nullable = true)\n",
      " |-- OnSceneDtTmTS: timestamp (nullable = true)\n",
      " |-- TransportDtTmTS: timestamp (nullable = true)\n",
      " |-- HospitalDtTmTS: timestamp (nullable = true)\n",
      " |-- AvailableDtTmTS: timestamp (nullable = true)\n",
      "\n"
     ]
    }
   ],
   "source": [
    "fireServiceCallsTsDF.printSchema()"
   ]
  },
  {
   "cell_type": "markdown",
   "metadata": {},
   "source": [
    "### The formatting of timestamp is different now"
   ]
  },
  {
   "cell_type": "code",
   "execution_count": 20,
   "metadata": {},
   "outputs": [
    {
     "data": {
      "text/html": [
       "<table border='1'>\n",
       "<tr><th>CallNumber</th><th>UnitID</th><th>IncidentNumber</th><th>CallType</th><th>CallFinalDisposition</th><th>Address</th><th>City</th><th>ZipcodeofIncident</th><th>Battalion</th><th>StationArea</th><th>Box</th><th>OriginalPriority</th><th>Priority</th><th>FinalPriority</th><th>ALSUnit</th><th>CallTypeGroup</th><th>NumberofAlarms</th><th>UnitType</th><th>Unitsequenceincalldispatch</th><th>FirePreventionDistrict</th><th>SupervisorDistrict</th><th>NeighborhoodDistrict</th><th>Location</th><th>RowID</th><th>CallDateTS</th><th>WatchDateTS</th><th>ReceivedDtTmTS</th><th>EntryDtTmTS</th><th>DispatchDtTmTS</th><th>ResponseDtTmTS</th><th>OnSceneDtTmTS</th><th>TransportDtTmTS</th><th>HospitalDtTmTS</th><th>AvailableDtTmTS</th></tr>\n",
       "<tr><td>1030101</td><td>E18</td><td>306091</td><td>Medical Incident</td><td>Other</td><td>2000 Block of 37T...</td><td>SF</td><td>94116</td><td>B08</td><td>18</td><td>0757</td><td>3</td><td>3</td><td>3</td><td>false</td><td>null</td><td>1</td><td>ENGINE</td><td>1</td><td>8</td><td>4</td><td>Sunset/Parkside</td><td>(37.7487247711275...</td><td>001030101-E18</td><td>2000-04-12 00:00:00</td><td>2000-04-12 00:00:00</td><td>2000-04-12 21:00:29</td><td>2000-04-12 21:01:40</td><td>2000-04-12 21:02:00</td><td>null</td><td>null</td><td>null</td><td>null</td><td>null</td></tr>\n",
       "<tr><td>1030104</td><td>M14</td><td>30612</td><td>Medical Incident</td><td>Other</td><td>1700 Block of 43R...</td><td>SF</td><td>94122</td><td>B08</td><td>23</td><td>7651</td><td>3</td><td>3</td><td>3</td><td>true</td><td>null</td><td>1</td><td>MEDIC</td><td>2</td><td>8</td><td>4</td><td>Sunset/Parkside</td><td>(37.7540326780595...</td><td>001030104-M14</td><td>2000-04-12 00:00:00</td><td>2000-04-12 00:00:00</td><td>2000-04-12 21:09:02</td><td>2000-04-12 21:10:17</td><td>2000-04-12 21:10:29</td><td>2000-04-12 21:12:11</td><td>2000-04-12 21:19:36</td><td>2000-04-12 21:43:57</td><td>2000-04-12 22:03:33</td><td>2000-04-12 22:23:57</td></tr>\n",
       "<tr><td>1030106</td><td>M36</td><td>30614</td><td>Medical Incident</td><td>Other</td><td>0 Block of FELL ST</td><td>SF</td><td>94102</td><td>B02</td><td>36</td><td>3111</td><td>3</td><td>3</td><td>3</td><td>false</td><td>null</td><td>1</td><td>MEDIC</td><td>1</td><td>2</td><td>6</td><td>Tenderloin</td><td>(37.7764405100838...</td><td>001030106-M36</td><td>2000-04-12 00:00:00</td><td>2000-04-12 00:00:00</td><td>2000-04-12 21:09:44</td><td>2000-04-12 21:10:56</td><td>2000-04-12 21:11:47</td><td>null</td><td>2000-04-12 21:14:11</td><td>2000-04-12 21:59:31</td><td>2000-04-12 22:10:06</td><td>2000-04-12 22:43:40</td></tr>\n",
       "<tr><td>1030107</td><td>E01</td><td>30615</td><td>Alarms</td><td>Other</td><td>100 Block of JONE...</td><td>SF</td><td>94102</td><td>B03</td><td>01</td><td>1456</td><td>3</td><td>3</td><td>3</td><td>false</td><td>null</td><td>1</td><td>ENGINE</td><td>3</td><td>3</td><td>6</td><td>Tenderloin</td><td>(37.7825474000421...</td><td>001030107-E01</td><td>2000-04-12 00:00:00</td><td>2000-04-12 00:00:00</td><td>2000-04-12 21:13:47</td><td>2000-04-12 21:13:51</td><td>2000-04-12 21:14:13</td><td>2000-04-12 21:15:58</td><td>2000-04-12 21:20:12</td><td>null</td><td>null</td><td>2000-04-12 21:24:19</td></tr>\n",
       "<tr><td>1030108</td><td>RS1</td><td>30616</td><td>Medical Incident</td><td>Other</td><td>700 Block of MARK...</td><td>SF</td><td>94108</td><td>B03</td><td>01</td><td>1322</td><td>3</td><td>3</td><td>3</td><td>false</td><td>null</td><td>1</td><td>RESCUE SQUAD</td><td>2</td><td>1</td><td>3</td><td>Financial Distric...</td><td>(37.7863072236365...</td><td>001030108-RS1</td><td>2000-04-12 00:00:00</td><td>2000-04-12 00:00:00</td><td>2000-04-12 21:14:43</td><td>2000-04-12 21:16:11</td><td>2000-04-12 21:16:24</td><td>2000-04-12 21:18:20</td><td>2000-04-12 21:20:08</td><td>null</td><td>null</td><td>2000-04-12 21:20:36</td></tr>\n",
       "</table>\n"
      ],
      "text/plain": [
       "+----------+------+--------------+----------------+--------------------+--------------------+----+-----------------+---------+-----------+----+----------------+--------+-------------+-------+-------------+--------------+------------+--------------------------+----------------------+------------------+--------------------+--------------------+-------------+-------------------+-------------------+-------------------+-------------------+-------------------+-------------------+-------------------+-------------------+-------------------+-------------------+\n",
       "|CallNumber|UnitID|IncidentNumber|        CallType|CallFinalDisposition|             Address|City|ZipcodeofIncident|Battalion|StationArea| Box|OriginalPriority|Priority|FinalPriority|ALSUnit|CallTypeGroup|NumberofAlarms|    UnitType|Unitsequenceincalldispatch|FirePreventionDistrict|SupervisorDistrict|NeighborhoodDistrict|            Location|        RowID|         CallDateTS|        WatchDateTS|     ReceivedDtTmTS|        EntryDtTmTS|     DispatchDtTmTS|     ResponseDtTmTS|      OnSceneDtTmTS|    TransportDtTmTS|     HospitalDtTmTS|    AvailableDtTmTS|\n",
       "+----------+------+--------------+----------------+--------------------+--------------------+----+-----------------+---------+-----------+----+----------------+--------+-------------+-------+-------------+--------------+------------+--------------------------+----------------------+------------------+--------------------+--------------------+-------------+-------------------+-------------------+-------------------+-------------------+-------------------+-------------------+-------------------+-------------------+-------------------+-------------------+\n",
       "|   1030101|   E18|        306091|Medical Incident|               Other|2000 Block of 37T...|  SF|            94116|      B08|         18|0757|               3|       3|            3|  false|         null|             1|      ENGINE|                         1|                     8|                 4|     Sunset/Parkside|(37.7487247711275...|001030101-E18|2000-04-12 00:00:00|2000-04-12 00:00:00|2000-04-12 21:00:29|2000-04-12 21:01:40|2000-04-12 21:02:00|               null|               null|               null|               null|               null|\n",
       "|   1030104|   M14|         30612|Medical Incident|               Other|1700 Block of 43R...|  SF|            94122|      B08|         23|7651|               3|       3|            3|   true|         null|             1|       MEDIC|                         2|                     8|                 4|     Sunset/Parkside|(37.7540326780595...|001030104-M14|2000-04-12 00:00:00|2000-04-12 00:00:00|2000-04-12 21:09:02|2000-04-12 21:10:17|2000-04-12 21:10:29|2000-04-12 21:12:11|2000-04-12 21:19:36|2000-04-12 21:43:57|2000-04-12 22:03:33|2000-04-12 22:23:57|\n",
       "|   1030106|   M36|         30614|Medical Incident|               Other|  0 Block of FELL ST|  SF|            94102|      B02|         36|3111|               3|       3|            3|  false|         null|             1|       MEDIC|                         1|                     2|                 6|          Tenderloin|(37.7764405100838...|001030106-M36|2000-04-12 00:00:00|2000-04-12 00:00:00|2000-04-12 21:09:44|2000-04-12 21:10:56|2000-04-12 21:11:47|               null|2000-04-12 21:14:11|2000-04-12 21:59:31|2000-04-12 22:10:06|2000-04-12 22:43:40|\n",
       "|   1030107|   E01|         30615|          Alarms|               Other|100 Block of JONE...|  SF|            94102|      B03|         01|1456|               3|       3|            3|  false|         null|             1|      ENGINE|                         3|                     3|                 6|          Tenderloin|(37.7825474000421...|001030107-E01|2000-04-12 00:00:00|2000-04-12 00:00:00|2000-04-12 21:13:47|2000-04-12 21:13:51|2000-04-12 21:14:13|2000-04-12 21:15:58|2000-04-12 21:20:12|               null|               null|2000-04-12 21:24:19|\n",
       "|   1030108|   RS1|         30616|Medical Incident|               Other|700 Block of MARK...|  SF|            94108|      B03|         01|1322|               3|       3|            3|  false|         null|             1|RESCUE SQUAD|                         2|                     1|                 3|Financial Distric...|(37.7863072236365...|001030108-RS1|2000-04-12 00:00:00|2000-04-12 00:00:00|2000-04-12 21:14:43|2000-04-12 21:16:11|2000-04-12 21:16:24|2000-04-12 21:18:20|2000-04-12 21:20:08|               null|               null|2000-04-12 21:20:36|\n",
       "+----------+------+--------------+----------------+--------------------+--------------------+----+-----------------+---------+-----------+----+----------------+--------+-------------+-------+-------------+--------------+------------+--------------------------+----------------------+------------------+--------------------+--------------------+-------------+-------------------+-------------------+-------------------+-------------------+-------------------+-------------------+-------------------+-------------------+-------------------+-------------------+"
      ]
     },
     "metadata": {},
     "output_type": "display_data"
    }
   ],
   "source": [
    "display(fireServiceCallsTsDF.limit(5))"
   ]
  },
  {
   "cell_type": "markdown",
   "metadata": {},
   "source": [
    "## Calculating distinct years of data in CSV file"
   ]
  },
  {
   "cell_type": "code",
   "execution_count": 21,
   "metadata": {},
   "outputs": [
    {
     "name": "stdout",
     "output_type": "stream",
     "text": [
      "+----------------+\n",
      "|year(CallDateTS)|\n",
      "+----------------+\n",
      "|            2000|\n",
      "|            2001|\n",
      "|            2002|\n",
      "|            2003|\n",
      "|            2004|\n",
      "|            2005|\n",
      "|            2006|\n",
      "|            2007|\n",
      "|            2008|\n",
      "|            2009|\n",
      "|            2010|\n",
      "|            2011|\n",
      "|            2012|\n",
      "|            2013|\n",
      "|            2014|\n",
      "|            2015|\n",
      "|            2016|\n",
      "|            2017|\n",
      "|            2018|\n",
      "|            2019|\n",
      "+----------------+\n",
      "\n"
     ]
    }
   ],
   "source": [
    "fireServiceCallsTsDF.select(year('CallDateTS')).distinct().orderBy('year(CallDateTS)').show()"
   ]
  },
  {
   "cell_type": "markdown",
   "metadata": {},
   "source": [
    "## How many Service Calls  were logged in the past 7 days ?\n",
    "\n",
    "Note that today is 19th March 2019"
   ]
  },
  {
   "cell_type": "code",
   "execution_count": 22,
   "metadata": {},
   "outputs": [
    {
     "name": "stdout",
     "output_type": "stream",
     "text": [
      "+---------------------+\n",
      "|dayofyear(CallDateTS)|\n",
      "+---------------------+\n",
      "|                   71|\n",
      "|                   72|\n",
      "|                   73|\n",
      "|                   74|\n",
      "|                   75|\n",
      "|                   76|\n",
      "|                   77|\n",
      "+---------------------+\n",
      "\n"
     ]
    }
   ],
   "source": [
    "fireServiceCallsTsDF.filter(year('CallDateTS') == '2019').filter(dayofyear('CallDateTs') >=\n",
    " 71).select(dayofyear('CallDateTS')).distinct().orderBy('dayofyear(CallDateTS)').show()"
   ]
  },
  {
   "cell_type": "code",
   "execution_count": 23,
   "metadata": {},
   "outputs": [
    {
     "name": "stdout",
     "output_type": "stream",
     "text": [
      "+---------------------+-----+\n",
      "|dayofyear(CallDateTS)|count|\n",
      "+---------------------+-----+\n",
      "|                   71|  839|\n",
      "|                   72|  919|\n",
      "|                   73|  893|\n",
      "|                   74|  874|\n",
      "|                   75|  854|\n",
      "|                   76|  928|\n",
      "|                   77|  950|\n",
      "+---------------------+-----+\n",
      "\n"
     ]
    }
   ],
   "source": [
    "fireServiceCallsTsDF.filter(year('CallDateTS') == '2019').filter(dayofyear('CallDateTs') >=\n",
    " 71).groupBy(dayofyear('CallDateTS')).count().orderBy('dayofyear(CallDateTS)').show()"
   ]
  },
  {
   "cell_type": "markdown",
   "metadata": {},
   "source": [
    "### The  above date was March 20th, 2019 was the 79th day of the Year"
   ]
  },
  {
   "cell_type": "code",
   "execution_count": 24,
   "metadata": {},
   "outputs": [
    {
     "data": {
      "text/html": [
       "<table border='1'>\n",
       "<tr><th>dayofyear(CallDateTS)</th><th>count</th></tr>\n",
       "<tr><td>71</td><td>839</td></tr>\n",
       "<tr><td>72</td><td>919</td></tr>\n",
       "<tr><td>73</td><td>893</td></tr>\n",
       "<tr><td>74</td><td>874</td></tr>\n",
       "<tr><td>75</td><td>854</td></tr>\n",
       "<tr><td>76</td><td>928</td></tr>\n",
       "<tr><td>77</td><td>950</td></tr>\n",
       "</table>\n"
      ],
      "text/plain": [
       "+---------------------+-----+\n",
       "|dayofyear(CallDateTS)|count|\n",
       "+---------------------+-----+\n",
       "|                   71|  839|\n",
       "|                   72|  919|\n",
       "|                   73|  893|\n",
       "|                   74|  874|\n",
       "|                   75|  854|\n",
       "|                   76|  928|\n",
       "|                   77|  950|\n",
       "+---------------------+-----+"
      ]
     },
     "metadata": {},
     "output_type": "display_data"
    }
   ],
   "source": [
    "display(fireServiceCallsTsDF.filter(year('CallDateTS') == '2019').filter(dayofyear('CallDateTs') >=\n",
    " 71).groupBy(dayofyear('CallDateTS')).count().orderBy('dayofyear(CallDateTS)'))"
   ]
  },
  {
   "cell_type": "markdown",
   "metadata": {},
   "source": [
    "## Memory, Caching"
   ]
  },
  {
   "cell_type": "markdown",
   "metadata": {},
   "source": [
    "### The DataFrame is currently comprised of 14 Partitions:"
   ]
  },
  {
   "cell_type": "code",
   "execution_count": 25,
   "metadata": {},
   "outputs": [
    {
     "data": {
      "text/plain": [
       "14"
      ]
     },
     "execution_count": 25,
     "metadata": {},
     "output_type": "execute_result"
    }
   ],
   "source": [
    "fireServiceCallsTsDF.rdd.getNumPartitions()"
   ]
  },
  {
   "cell_type": "code",
   "execution_count": 26,
   "metadata": {},
   "outputs": [],
   "source": [
    "fireServiceCallsTsDF.repartition(6).createOrReplaceTempView(\"fireServiceVIEW\");"
   ]
  },
  {
   "cell_type": "code",
   "execution_count": 27,
   "metadata": {},
   "outputs": [],
   "source": [
    "spark.catalog.cacheTable(\"fireServiceVIEW\")"
   ]
  },
  {
   "cell_type": "code",
   "execution_count": 28,
   "metadata": {},
   "outputs": [
    {
     "data": {
      "text/plain": [
       "4911827"
      ]
     },
     "execution_count": 28,
     "metadata": {},
     "output_type": "execute_result"
    }
   ],
   "source": [
    "# Calling .count() to materialize the cache\n",
    "spark.table(\"fireServiceVIEW\").count()"
   ]
  },
  {
   "cell_type": "code",
   "execution_count": 29,
   "metadata": {},
   "outputs": [],
   "source": [
    "fireServiceDF = spark.table(\"fireServiceVIEW\")"
   ]
  },
  {
   "cell_type": "code",
   "execution_count": 30,
   "metadata": {},
   "outputs": [
    {
     "data": {
      "text/plain": [
       "4911827"
      ]
     },
     "execution_count": 30,
     "metadata": {},
     "output_type": "execute_result"
    }
   ],
   "source": [
    "# This should take less than 1 sec when executed in Databricks\n",
    "fireServiceDF.count()"
   ]
  },
  {
   "cell_type": "markdown",
   "metadata": {},
   "source": [
    "# DataFrame Joins"
   ]
  },
  {
   "cell_type": "markdown",
   "metadata": {},
   "source": [
    "Fire Incidents Datasets: https://data.sfgov.org/Public-Safety/Fire-Incidents/wr8u-xric\n",
    "\n",
    "Joining the above dataframe to Fire Incidents Dataframe on the \"Incident Number\" Column.\n",
    "\n",
    "Reading the Fire Incidents CSV file in to Dataframe"
   ]
  },
  {
   "cell_type": "code",
   "execution_count": 31,
   "metadata": {},
   "outputs": [],
   "source": [
    "incidentsDf = spark.read.csv('Fire_Incidents.csv',header = True, inferSchema = True).withColumnRenamed('Incident Number','IncidentNumber').cache()"
   ]
  },
  {
   "cell_type": "code",
   "execution_count": 32,
   "metadata": {},
   "outputs": [
    {
     "name": "stdout",
     "output_type": "stream",
     "text": [
      "root\n",
      " |-- IncidentNumber: integer (nullable = true)\n",
      " |-- Exposure Number: integer (nullable = true)\n",
      " |-- Address: string (nullable = true)\n",
      " |-- Incident Date: string (nullable = true)\n",
      " |-- Call Number: integer (nullable = true)\n",
      " |-- Alarm DtTm: string (nullable = true)\n",
      " |-- Arrival DtTm: string (nullable = true)\n",
      " |-- Close DtTm: string (nullable = true)\n",
      " |-- City: string (nullable = true)\n",
      " |-- Zipcode: integer (nullable = true)\n",
      " |-- Battalion: string (nullable = true)\n",
      " |-- Station Area: string (nullable = true)\n",
      " |-- Box: string (nullable = true)\n",
      " |-- Suppression Units: integer (nullable = true)\n",
      " |-- Suppression Personnel: integer (nullable = true)\n",
      " |-- EMS Units: integer (nullable = true)\n",
      " |-- EMS Personnel: integer (nullable = true)\n",
      " |-- Other Units: integer (nullable = true)\n",
      " |-- Other Personnel: integer (nullable = true)\n",
      " |-- First Unit On Scene: string (nullable = true)\n",
      " |-- Estimated Property Loss: integer (nullable = true)\n",
      " |-- Estimated Contents Loss: double (nullable = true)\n",
      " |-- Fire Fatalities: integer (nullable = true)\n",
      " |-- Fire Injuries: integer (nullable = true)\n",
      " |-- Civilian Fatalities: integer (nullable = true)\n",
      " |-- Civilian Injuries: integer (nullable = true)\n",
      " |-- Number of Alarms: string (nullable = true)\n",
      " |-- Primary Situation: string (nullable = true)\n",
      " |-- Mutual Aid: string (nullable = true)\n",
      " |-- Action Taken Primary: string (nullable = true)\n",
      " |-- Action Taken Secondary: string (nullable = true)\n",
      " |-- Action Taken Other: string (nullable = true)\n",
      " |-- Detector Alerted Occupants: string (nullable = true)\n",
      " |-- Property Use: string (nullable = true)\n",
      " |-- Area of Fire Origin: string (nullable = true)\n",
      " |-- Ignition Cause: string (nullable = true)\n",
      " |-- Ignition Factor Primary: string (nullable = true)\n",
      " |-- Ignition Factor Secondary: string (nullable = true)\n",
      " |-- Heat Source: string (nullable = true)\n",
      " |-- Item First Ignited: string (nullable = true)\n",
      " |-- Human Factors Associated with Ignition: string (nullable = true)\n",
      " |-- Structure Type: string (nullable = true)\n",
      " |-- Structure Status: string (nullable = true)\n",
      " |-- Floor of Fire Origin: integer (nullable = true)\n",
      " |-- Fire Spread: string (nullable = true)\n",
      " |-- No Flame Spead: string (nullable = true)\n",
      " |-- Number of floors with minimum damage: integer (nullable = true)\n",
      " |-- Number of floors with significant damage: integer (nullable = true)\n",
      " |-- Number of floors with heavy damage: integer (nullable = true)\n",
      " |-- Number of floors with extreme damage: integer (nullable = true)\n",
      " |-- Detectors Present: string (nullable = true)\n",
      " |-- Detector Type: string (nullable = true)\n",
      " |-- Detector Operation: string (nullable = true)\n",
      " |-- Detector Effectiveness: string (nullable = true)\n",
      " |-- Detector Failure Reason: string (nullable = true)\n",
      " |-- Automatic Extinguishing System Present: string (nullable = true)\n",
      " |-- Automatic Extinguishing Sytem Type: string (nullable = true)\n",
      " |-- Automatic Extinguishing Sytem Perfomance: string (nullable = true)\n",
      " |-- Automatic Extinguishing Sytem Failure Reason: string (nullable = true)\n",
      " |-- Number of Sprinkler Heads Operating: integer (nullable = true)\n",
      " |-- Supervisor District: integer (nullable = true)\n",
      " |-- Neighborhood  District: string (nullable = true)\n",
      " |-- Location: string (nullable = true)\n",
      "\n"
     ]
    }
   ],
   "source": [
    "incidentsDf.printSchema()"
   ]
  },
  {
   "cell_type": "code",
   "execution_count": 34,
   "metadata": {},
   "outputs": [
    {
     "data": {
      "text/plain": [
       "491074"
      ]
     },
     "execution_count": 34,
     "metadata": {},
     "output_type": "execute_result"
    }
   ],
   "source": [
    "#Materialize the Cache\n",
    "incidentsDf.count()"
   ]
  },
  {
   "cell_type": "code",
   "execution_count": 35,
   "metadata": {},
   "outputs": [
    {
     "data": {
      "text/html": [
       "<table border='1'>\n",
       "<tr><th>IncidentNumber</th><th>Exposure Number</th><th>Address</th><th>Incident Date</th><th>Call Number</th><th>Alarm DtTm</th><th>Arrival DtTm</th><th>Close DtTm</th><th>City</th><th>Zipcode</th><th>Battalion</th><th>Station Area</th><th>Box</th><th>Suppression Units</th><th>Suppression Personnel</th><th>EMS Units</th><th>EMS Personnel</th><th>Other Units</th><th>Other Personnel</th><th>First Unit On Scene</th><th>Estimated Property Loss</th><th>Estimated Contents Loss</th><th>Fire Fatalities</th><th>Fire Injuries</th><th>Civilian Fatalities</th><th>Civilian Injuries</th><th>Number of Alarms</th><th>Primary Situation</th><th>Mutual Aid</th><th>Action Taken Primary</th><th>Action Taken Secondary</th><th>Action Taken Other</th><th>Detector Alerted Occupants</th><th>Property Use</th><th>Area of Fire Origin</th><th>Ignition Cause</th><th>Ignition Factor Primary</th><th>Ignition Factor Secondary</th><th>Heat Source</th><th>Item First Ignited</th><th>Human Factors Associated with Ignition</th><th>Structure Type</th><th>Structure Status</th><th>Floor of Fire Origin</th><th>Fire Spread</th><th>No Flame Spead</th><th>Number of floors with minimum damage</th><th>Number of floors with significant damage</th><th>Number of floors with heavy damage</th><th>Number of floors with extreme damage</th><th>Detectors Present</th><th>Detector Type</th><th>Detector Operation</th><th>Detector Effectiveness</th><th>Detector Failure Reason</th><th>Automatic Extinguishing System Present</th><th>Automatic Extinguishing Sytem Type</th><th>Automatic Extinguishing Sytem Perfomance</th><th>Automatic Extinguishing Sytem Failure Reason</th><th>Number of Sprinkler Heads Operating</th><th>Supervisor District</th><th>Neighborhood  District</th><th>Location</th></tr>\n",
       "<tr><td>9030109</td><td>0</td><td>310 Colon Av.</td><td>04/12/2009</td><td>91020273</td><td>04/12/2009 06:09:...</td><td>04/12/2009 06:13:...</td><td>04/12/2009 07:23:...</td><td>SF</td><td>null</td><td>B09</td><td>15</td><td>null</td><td>1</td><td>5</td><td>0</td><td>0</td><td>0</td><td>0</td><td>T15</td><td>null</td><td>null</td><td>0</td><td>0</td><td>0</td><td>0</td><td>null</td><td>551 - assist pd o...</td><td>none</td><td>52 - forcible entry</td><td>-</td><td>-</td><td>-</td><td>000 - property us...</td><td>null</td><td>null</td><td>null</td><td>null</td><td>null</td><td>null</td><td>null</td><td>null</td><td>null</td><td>null</td><td>null</td><td>null</td><td>null</td><td>null</td><td>null</td><td>null</td><td>null</td><td>null</td><td>null</td><td>null</td><td>null</td><td>null</td><td>null</td><td>null</td><td>null</td><td>null</td><td>null</td><td>null</td><td>null</td></tr>\n",
       "<tr><td>13067402</td><td>0</td><td>20 Lansdale Av</td><td>07/18/2013</td><td>131990117</td><td>07/18/2013 10:32:...</td><td>07/18/2013 10:37:...</td><td>07/18/2013 10:39:...</td><td>SF</td><td>null</td><td>B09</td><td>39</td><td>8571</td><td>3</td><td>11</td><td>0</td><td>0</td><td>0</td><td>0</td><td>E39</td><td>null</td><td>null</td><td>0</td><td>0</td><td>0</td><td>0</td><td>null</td><td>745 - alarm syste...</td><td>none</td><td>86 - investigate</td><td>-</td><td>-</td><td>-</td><td>429 - multifamily...</td><td>null</td><td>null</td><td>null</td><td>null</td><td>null</td><td>null</td><td>null</td><td>null</td><td>null</td><td>null</td><td>null</td><td>null</td><td>null</td><td>null</td><td>null</td><td>null</td><td>null</td><td>null</td><td>null</td><td>null</td><td>null</td><td>null</td><td>null</td><td>null</td><td>null</td><td>null</td><td>null</td><td>null</td><td>null</td></tr>\n",
       "<tr><td>12044490</td><td>0</td><td>7th St. / Folsom St.</td><td>05/13/2012</td><td>121340051</td><td>05/13/2012 03:55:...</td><td>05/13/2012 04:01:...</td><td>05/13/2012 04:05:...</td><td>SF</td><td>94103</td><td>B03</td><td>01</td><td>null</td><td>3</td><td>10</td><td>0</td><td>0</td><td>0</td><td>0</td><td>B03</td><td>null</td><td>null</td><td>0</td><td>0</td><td>0</td><td>0</td><td>null</td><td>711 - municipal a...</td><td>none</td><td>86 - investigate</td><td>-</td><td>-</td><td>-</td><td>963 - street or r...</td><td>null</td><td>null</td><td>null</td><td>null</td><td>null</td><td>null</td><td>null</td><td>null</td><td>null</td><td>null</td><td>null</td><td>null</td><td>null</td><td>null</td><td>null</td><td>null</td><td>null</td><td>null</td><td>null</td><td>null</td><td>null</td><td>null</td><td>null</td><td>null</td><td>null</td><td>null</td><td>6</td><td>South of Market</td><td>(37.7767460000297...</td></tr>\n",
       "</table>\n"
      ],
      "text/plain": [
       "+--------------+---------------+--------------------+-------------+-----------+--------------------+--------------------+--------------------+----+-------+---------+------------+----+-----------------+---------------------+---------+-------------+-----------+---------------+-------------------+-----------------------+-----------------------+---------------+-------------+-------------------+-----------------+----------------+--------------------+----------+--------------------+----------------------+------------------+--------------------------+--------------------+-------------------+--------------+-----------------------+-------------------------+-----------+------------------+--------------------------------------+--------------+----------------+--------------------+-----------+--------------+------------------------------------+----------------------------------------+----------------------------------+------------------------------------+-----------------+-------------+------------------+----------------------+-----------------------+--------------------------------------+----------------------------------+----------------------------------------+--------------------------------------------+-----------------------------------+-------------------+----------------------+--------------------+\n",
       "|IncidentNumber|Exposure Number|             Address|Incident Date|Call Number|          Alarm DtTm|        Arrival DtTm|          Close DtTm|City|Zipcode|Battalion|Station Area| Box|Suppression Units|Suppression Personnel|EMS Units|EMS Personnel|Other Units|Other Personnel|First Unit On Scene|Estimated Property Loss|Estimated Contents Loss|Fire Fatalities|Fire Injuries|Civilian Fatalities|Civilian Injuries|Number of Alarms|   Primary Situation|Mutual Aid|Action Taken Primary|Action Taken Secondary|Action Taken Other|Detector Alerted Occupants|        Property Use|Area of Fire Origin|Ignition Cause|Ignition Factor Primary|Ignition Factor Secondary|Heat Source|Item First Ignited|Human Factors Associated with Ignition|Structure Type|Structure Status|Floor of Fire Origin|Fire Spread|No Flame Spead|Number of floors with minimum damage|Number of floors with significant damage|Number of floors with heavy damage|Number of floors with extreme damage|Detectors Present|Detector Type|Detector Operation|Detector Effectiveness|Detector Failure Reason|Automatic Extinguishing System Present|Automatic Extinguishing Sytem Type|Automatic Extinguishing Sytem Perfomance|Automatic Extinguishing Sytem Failure Reason|Number of Sprinkler Heads Operating|Supervisor District|Neighborhood  District|            Location|\n",
       "+--------------+---------------+--------------------+-------------+-----------+--------------------+--------------------+--------------------+----+-------+---------+------------+----+-----------------+---------------------+---------+-------------+-----------+---------------+-------------------+-----------------------+-----------------------+---------------+-------------+-------------------+-----------------+----------------+--------------------+----------+--------------------+----------------------+------------------+--------------------------+--------------------+-------------------+--------------+-----------------------+-------------------------+-----------+------------------+--------------------------------------+--------------+----------------+--------------------+-----------+--------------+------------------------------------+----------------------------------------+----------------------------------+------------------------------------+-----------------+-------------+------------------+----------------------+-----------------------+--------------------------------------+----------------------------------+----------------------------------------+--------------------------------------------+-----------------------------------+-------------------+----------------------+--------------------+\n",
       "|       9030109|              0|       310 Colon Av.|   04/12/2009|   91020273|04/12/2009 06:09:...|04/12/2009 06:13:...|04/12/2009 07:23:...|  SF|   null|      B09|          15|null|                1|                    5|        0|            0|          0|              0|                T15|                   null|                   null|              0|            0|                  0|                0|            null|551 - assist pd o...|      none| 52 - forcible entry|                     -|                 -|                         -|000 - property us...|               null|          null|                   null|                     null|       null|              null|                                  null|          null|            null|                null|       null|          null|                                null|                                    null|                              null|                                null|             null|         null|              null|                  null|                   null|                                  null|                              null|                                    null|                                        null|                               null|               null|                  null|                null|\n",
       "|      13067402|              0|      20 Lansdale Av|   07/18/2013|  131990117|07/18/2013 10:32:...|07/18/2013 10:37:...|07/18/2013 10:39:...|  SF|   null|      B09|          39|8571|                3|                   11|        0|            0|          0|              0|                E39|                   null|                   null|              0|            0|                  0|                0|            null|745 - alarm syste...|      none|    86 - investigate|                     -|                 -|                         -|429 - multifamily...|               null|          null|                   null|                     null|       null|              null|                                  null|          null|            null|                null|       null|          null|                                null|                                    null|                              null|                                null|             null|         null|              null|                  null|                   null|                                  null|                              null|                                    null|                                        null|                               null|               null|                  null|                null|\n",
       "|      12044490|              0|7th St. / Folsom St.|   05/13/2012|  121340051|05/13/2012 03:55:...|05/13/2012 04:01:...|05/13/2012 04:05:...|  SF|  94103|      B03|          01|null|                3|                   10|        0|            0|          0|              0|                B03|                   null|                   null|              0|            0|                  0|                0|            null|711 - municipal a...|      none|    86 - investigate|                     -|                 -|                         -|963 - street or r...|               null|          null|                   null|                     null|       null|              null|                                  null|          null|            null|                null|       null|          null|                                null|                                    null|                              null|                                null|             null|         null|              null|                  null|                   null|                                  null|                              null|                                    null|                                        null|                               null|                  6|       South of Market|(37.7767460000297...|\n",
       "+--------------+---------------+--------------------+-------------+-----------+--------------------+--------------------+--------------------+----+-------+---------+------------+----+-----------------+---------------------+---------+-------------+-----------+---------------+-------------------+-----------------------+-----------------------+---------------+-------------+-------------------+-----------------+----------------+--------------------+----------+--------------------+----------------------+------------------+--------------------------+--------------------+-------------------+--------------+-----------------------+-------------------------+-----------+------------------+--------------------------------------+--------------+----------------+--------------------+-----------+--------------+------------------------------------+----------------------------------------+----------------------------------+------------------------------------+-----------------+-------------+------------------+----------------------+-----------------------+--------------------------------------+----------------------------------+----------------------------------------+--------------------------------------------+-----------------------------------+-------------------+----------------------+--------------------+"
      ]
     },
     "metadata": {},
     "output_type": "display_data"
    }
   ],
   "source": [
    "display(incidentsDf.limit(3))"
   ]
  },
  {
   "cell_type": "code",
   "execution_count": 33,
   "metadata": {},
   "outputs": [],
   "source": [
    "joinedDF = fireServiceDF.join(incidentsDf,fireServiceDF.IncidentNumber == incidentsDf.IncidentNumber)"
   ]
  },
  {
   "cell_type": "code",
   "execution_count": 38,
   "metadata": {},
   "outputs": [
    {
     "data": {
      "text/html": [
       "<table border='1'>\n",
       "<tr><th>CallNumber</th><th>UnitID</th><th>IncidentNumber</th><th>CallType</th><th>CallFinalDisposition</th><th>Address</th><th>City</th><th>ZipcodeofIncident</th><th>Battalion</th><th>StationArea</th><th>Box</th><th>OriginalPriority</th><th>Priority</th><th>FinalPriority</th><th>ALSUnit</th><th>CallTypeGroup</th><th>NumberofAlarms</th><th>UnitType</th><th>Unitsequenceincalldispatch</th><th>FirePreventionDistrict</th><th>SupervisorDistrict</th><th>NeighborhoodDistrict</th><th>Location</th><th>RowID</th><th>CallDateTS</th><th>WatchDateTS</th><th>ReceivedDtTmTS</th><th>EntryDtTmTS</th><th>DispatchDtTmTS</th><th>ResponseDtTmTS</th><th>OnSceneDtTmTS</th><th>TransportDtTmTS</th><th>HospitalDtTmTS</th><th>AvailableDtTmTS</th><th>IncidentNumber</th><th>Exposure Number</th><th>Address</th><th>Incident Date</th><th>Call Number</th><th>Alarm DtTm</th><th>Arrival DtTm</th><th>Close DtTm</th><th>City</th><th>Zipcode</th><th>Battalion</th><th>Station Area</th><th>Box</th><th>Suppression Units</th><th>Suppression Personnel</th><th>EMS Units</th><th>EMS Personnel</th><th>Other Units</th><th>Other Personnel</th><th>First Unit On Scene</th><th>Estimated Property Loss</th><th>Estimated Contents Loss</th><th>Fire Fatalities</th><th>Fire Injuries</th><th>Civilian Fatalities</th><th>Civilian Injuries</th><th>Number of Alarms</th><th>Primary Situation</th><th>Mutual Aid</th><th>Action Taken Primary</th><th>Action Taken Secondary</th><th>Action Taken Other</th><th>Detector Alerted Occupants</th><th>Property Use</th><th>Area of Fire Origin</th><th>Ignition Cause</th><th>Ignition Factor Primary</th><th>Ignition Factor Secondary</th><th>Heat Source</th><th>Item First Ignited</th><th>Human Factors Associated with Ignition</th><th>Structure Type</th><th>Structure Status</th><th>Floor of Fire Origin</th><th>Fire Spread</th><th>No Flame Spead</th><th>Number of floors with minimum damage</th><th>Number of floors with significant damage</th><th>Number of floors with heavy damage</th><th>Number of floors with extreme damage</th><th>Detectors Present</th><th>Detector Type</th><th>Detector Operation</th><th>Detector Effectiveness</th><th>Detector Failure Reason</th><th>Automatic Extinguishing System Present</th><th>Automatic Extinguishing Sytem Type</th><th>Automatic Extinguishing Sytem Perfomance</th><th>Automatic Extinguishing Sytem Failure Reason</th><th>Number of Sprinkler Heads Operating</th><th>Supervisor District</th><th>Neighborhood  District</th><th>Location</th></tr>\n",
       "<tr><td>30010503</td><td>T16</td><td>3000375</td><td>Structure Fire</td><td>Other</td><td>BEACH ST/HYDE ST</td><td>SF</td><td>94109</td><td>B01</td><td>28</td><td>1615</td><td>3</td><td>3</td><td>3</td><td>false</td><td>null</td><td>1</td><td>TRUCK</td><td>1</td><td>1</td><td>2</td><td>Russian Hill</td><td>(37.8066577323833...</td><td>030010503-T16</td><td>2003-01-01 00:00:00</td><td>2003-01-01 00:00:00</td><td>2003-01-01 19:50:12</td><td>2003-01-01 19:50:12</td><td>2003-01-01 19:50:29</td><td>2003-01-01 19:51:47</td><td>null</td><td>null</td><td>null</td><td>2003-01-01 19:54:02</td><td>3000375</td><td>0</td><td>Beach St. / Hyde St.</td><td>01/01/2003</td><td>30010503</td><td>01/01/2003 07:50:...</td><td>01/01/2003 07:54:...</td><td>01/01/2003 07:54:...</td><td>SF</td><td>94109</td><td>B01</td><td>28</td><td>null</td><td>2</td><td>9</td><td>0</td><td>0</td><td>0</td><td>0</td><td>null</td><td>0</td><td>0.0</td><td>0</td><td>0</td><td>0</td><td>0</td><td>null</td><td>711 - municipal a...</td><td>none</td><td>86 - investigate</td><td>-</td><td>-</td><td>-</td><td>960 - street, other</td><td>null</td><td>null</td><td>null</td><td>null</td><td>null</td><td>null</td><td>null</td><td>null</td><td>null</td><td>null</td><td>null</td><td>null</td><td>null</td><td>null</td><td>null</td><td>null</td><td>null</td><td>null</td><td>null</td><td>null</td><td>null</td><td>null</td><td>null</td><td>null</td><td>null</td><td>null</td><td>2</td><td>Russian Hill</td><td>(37.8066570000297...</td></tr>\n",
       "<tr><td>30010503</td><td>E28</td><td>3000375</td><td>Structure Fire</td><td>Other</td><td>BEACH ST/HYDE ST</td><td>SF</td><td>94109</td><td>B01</td><td>28</td><td>1615</td><td>3</td><td>3</td><td>3</td><td>false</td><td>null</td><td>1</td><td>ENGINE</td><td>2</td><td>1</td><td>2</td><td>Russian Hill</td><td>(37.8066577323833...</td><td>030010503-E28</td><td>2003-01-01 00:00:00</td><td>2003-01-01 00:00:00</td><td>2003-01-01 19:50:12</td><td>2003-01-01 19:50:12</td><td>2003-01-01 19:50:29</td><td>2003-01-01 19:51:22</td><td>null</td><td>null</td><td>null</td><td>2003-01-01 19:54:00</td><td>3000375</td><td>0</td><td>Beach St. / Hyde St.</td><td>01/01/2003</td><td>30010503</td><td>01/01/2003 07:50:...</td><td>01/01/2003 07:54:...</td><td>01/01/2003 07:54:...</td><td>SF</td><td>94109</td><td>B01</td><td>28</td><td>null</td><td>2</td><td>9</td><td>0</td><td>0</td><td>0</td><td>0</td><td>null</td><td>0</td><td>0.0</td><td>0</td><td>0</td><td>0</td><td>0</td><td>null</td><td>711 - municipal a...</td><td>none</td><td>86 - investigate</td><td>-</td><td>-</td><td>-</td><td>960 - street, other</td><td>null</td><td>null</td><td>null</td><td>null</td><td>null</td><td>null</td><td>null</td><td>null</td><td>null</td><td>null</td><td>null</td><td>null</td><td>null</td><td>null</td><td>null</td><td>null</td><td>null</td><td>null</td><td>null</td><td>null</td><td>null</td><td>null</td><td>null</td><td>null</td><td>null</td><td>null</td><td>2</td><td>Russian Hill</td><td>(37.8066570000297...</td></tr>\n",
       "<tr><td>30050219</td><td>E03</td><td>3001517</td><td>Structure Fire</td><td>Other</td><td>POLK ST/SUTTER ST</td><td>SF</td><td>94109</td><td>B04</td><td>03</td><td>3121</td><td>3</td><td>3</td><td>3</td><td>false</td><td>null</td><td>1</td><td>ENGINE</td><td>2</td><td>4</td><td>3</td><td>Nob Hill</td><td>(37.7877566525283...</td><td>030050219-E03</td><td>2003-01-05 00:00:00</td><td>2003-01-05 00:00:00</td><td>2003-01-05 15:22:11</td><td>2003-01-05 15:22:11</td><td>2003-01-05 15:23:00</td><td>2003-01-05 15:24:00</td><td>null</td><td>null</td><td>null</td><td>2003-01-05 15:24:45</td><td>3001517</td><td>0</td><td>Polk St. / Sutter...</td><td>01/05/2003</td><td>30050219</td><td>01/05/2003 03:23:...</td><td>01/05/2003 03:24:...</td><td>01/05/2003 03:24:...</td><td>SF</td><td>94109</td><td>B04</td><td>03</td><td>null</td><td>2</td><td>9</td><td>0</td><td>0</td><td>0</td><td>0</td><td>T03</td><td>0</td><td>0.0</td><td>0</td><td>0</td><td>0</td><td>0</td><td>null</td><td>711 - municipal a...</td><td>none</td><td>86 - investigate</td><td>-</td><td>-</td><td>-</td><td>962 - residential...</td><td>null</td><td>null</td><td>null</td><td>null</td><td>null</td><td>null</td><td>null</td><td>null</td><td>null</td><td>null</td><td>null</td><td>null</td><td>null</td><td>null</td><td>null</td><td>null</td><td>null</td><td>null</td><td>null</td><td>null</td><td>null</td><td>null</td><td>null</td><td>null</td><td>null</td><td>null</td><td>3</td><td>Nob Hill</td><td>(37.7877570000297...</td></tr>\n",
       "</table>\n"
      ],
      "text/plain": [
       "+----------+------+--------------+--------------+--------------------+-----------------+----+-----------------+---------+-----------+----+----------------+--------+-------------+-------+-------------+--------------+--------+--------------------------+----------------------+------------------+--------------------+--------------------+-------------+-------------------+-------------------+-------------------+-------------------+-------------------+-------------------+-------------+---------------+--------------+-------------------+--------------+---------------+--------------------+-------------+-----------+--------------------+--------------------+--------------------+----+-------+---------+------------+----+-----------------+---------------------+---------+-------------+-----------+---------------+-------------------+-----------------------+-----------------------+---------------+-------------+-------------------+-----------------+----------------+--------------------+----------+--------------------+----------------------+------------------+--------------------------+--------------------+-------------------+--------------+-----------------------+-------------------------+-----------+------------------+--------------------------------------+--------------+----------------+--------------------+-----------+--------------+------------------------------------+----------------------------------------+----------------------------------+------------------------------------+-----------------+-------------+------------------+----------------------+-----------------------+--------------------------------------+----------------------------------+----------------------------------------+--------------------------------------------+-----------------------------------+-------------------+----------------------+--------------------+\n",
       "|CallNumber|UnitID|IncidentNumber|      CallType|CallFinalDisposition|          Address|City|ZipcodeofIncident|Battalion|StationArea| Box|OriginalPriority|Priority|FinalPriority|ALSUnit|CallTypeGroup|NumberofAlarms|UnitType|Unitsequenceincalldispatch|FirePreventionDistrict|SupervisorDistrict|NeighborhoodDistrict|            Location|        RowID|         CallDateTS|        WatchDateTS|     ReceivedDtTmTS|        EntryDtTmTS|     DispatchDtTmTS|     ResponseDtTmTS|OnSceneDtTmTS|TransportDtTmTS|HospitalDtTmTS|    AvailableDtTmTS|IncidentNumber|Exposure Number|             Address|Incident Date|Call Number|          Alarm DtTm|        Arrival DtTm|          Close DtTm|City|Zipcode|Battalion|Station Area| Box|Suppression Units|Suppression Personnel|EMS Units|EMS Personnel|Other Units|Other Personnel|First Unit On Scene|Estimated Property Loss|Estimated Contents Loss|Fire Fatalities|Fire Injuries|Civilian Fatalities|Civilian Injuries|Number of Alarms|   Primary Situation|Mutual Aid|Action Taken Primary|Action Taken Secondary|Action Taken Other|Detector Alerted Occupants|        Property Use|Area of Fire Origin|Ignition Cause|Ignition Factor Primary|Ignition Factor Secondary|Heat Source|Item First Ignited|Human Factors Associated with Ignition|Structure Type|Structure Status|Floor of Fire Origin|Fire Spread|No Flame Spead|Number of floors with minimum damage|Number of floors with significant damage|Number of floors with heavy damage|Number of floors with extreme damage|Detectors Present|Detector Type|Detector Operation|Detector Effectiveness|Detector Failure Reason|Automatic Extinguishing System Present|Automatic Extinguishing Sytem Type|Automatic Extinguishing Sytem Perfomance|Automatic Extinguishing Sytem Failure Reason|Number of Sprinkler Heads Operating|Supervisor District|Neighborhood  District|            Location|\n",
       "+----------+------+--------------+--------------+--------------------+-----------------+----+-----------------+---------+-----------+----+----------------+--------+-------------+-------+-------------+--------------+--------+--------------------------+----------------------+------------------+--------------------+--------------------+-------------+-------------------+-------------------+-------------------+-------------------+-------------------+-------------------+-------------+---------------+--------------+-------------------+--------------+---------------+--------------------+-------------+-----------+--------------------+--------------------+--------------------+----+-------+---------+------------+----+-----------------+---------------------+---------+-------------+-----------+---------------+-------------------+-----------------------+-----------------------+---------------+-------------+-------------------+-----------------+----------------+--------------------+----------+--------------------+----------------------+------------------+--------------------------+--------------------+-------------------+--------------+-----------------------+-------------------------+-----------+------------------+--------------------------------------+--------------+----------------+--------------------+-----------+--------------+------------------------------------+----------------------------------------+----------------------------------+------------------------------------+-----------------+-------------+------------------+----------------------+-----------------------+--------------------------------------+----------------------------------+----------------------------------------+--------------------------------------------+-----------------------------------+-------------------+----------------------+--------------------+\n",
       "|  30010503|   T16|       3000375|Structure Fire|               Other| BEACH ST/HYDE ST|  SF|            94109|      B01|         28|1615|               3|       3|            3|  false|         null|             1|   TRUCK|                         1|                     1|                 2|        Russian Hill|(37.8066577323833...|030010503-T16|2003-01-01 00:00:00|2003-01-01 00:00:00|2003-01-01 19:50:12|2003-01-01 19:50:12|2003-01-01 19:50:29|2003-01-01 19:51:47|         null|           null|          null|2003-01-01 19:54:02|       3000375|              0|Beach St. / Hyde St.|   01/01/2003|   30010503|01/01/2003 07:50:...|01/01/2003 07:54:...|01/01/2003 07:54:...|  SF|  94109|      B01|          28|null|                2|                    9|        0|            0|          0|              0|               null|                      0|                    0.0|              0|            0|                  0|                0|            null|711 - municipal a...|      none|    86 - investigate|                     -|                 -|                         -| 960 - street, other|               null|          null|                   null|                     null|       null|              null|                                  null|          null|            null|                null|       null|          null|                                null|                                    null|                              null|                                null|             null|         null|              null|                  null|                   null|                                  null|                              null|                                    null|                                        null|                               null|                  2|          Russian Hill|(37.8066570000297...|\n",
       "|  30010503|   E28|       3000375|Structure Fire|               Other| BEACH ST/HYDE ST|  SF|            94109|      B01|         28|1615|               3|       3|            3|  false|         null|             1|  ENGINE|                         2|                     1|                 2|        Russian Hill|(37.8066577323833...|030010503-E28|2003-01-01 00:00:00|2003-01-01 00:00:00|2003-01-01 19:50:12|2003-01-01 19:50:12|2003-01-01 19:50:29|2003-01-01 19:51:22|         null|           null|          null|2003-01-01 19:54:00|       3000375|              0|Beach St. / Hyde St.|   01/01/2003|   30010503|01/01/2003 07:50:...|01/01/2003 07:54:...|01/01/2003 07:54:...|  SF|  94109|      B01|          28|null|                2|                    9|        0|            0|          0|              0|               null|                      0|                    0.0|              0|            0|                  0|                0|            null|711 - municipal a...|      none|    86 - investigate|                     -|                 -|                         -| 960 - street, other|               null|          null|                   null|                     null|       null|              null|                                  null|          null|            null|                null|       null|          null|                                null|                                    null|                              null|                                null|             null|         null|              null|                  null|                   null|                                  null|                              null|                                    null|                                        null|                               null|                  2|          Russian Hill|(37.8066570000297...|\n",
       "|  30050219|   E03|       3001517|Structure Fire|               Other|POLK ST/SUTTER ST|  SF|            94109|      B04|         03|3121|               3|       3|            3|  false|         null|             1|  ENGINE|                         2|                     4|                 3|            Nob Hill|(37.7877566525283...|030050219-E03|2003-01-05 00:00:00|2003-01-05 00:00:00|2003-01-05 15:22:11|2003-01-05 15:22:11|2003-01-05 15:23:00|2003-01-05 15:24:00|         null|           null|          null|2003-01-05 15:24:45|       3001517|              0|Polk St. / Sutter...|   01/05/2003|   30050219|01/05/2003 03:23:...|01/05/2003 03:24:...|01/05/2003 03:24:...|  SF|  94109|      B04|          03|null|                2|                    9|        0|            0|          0|              0|                T03|                      0|                    0.0|              0|            0|                  0|                0|            null|711 - municipal a...|      none|    86 - investigate|                     -|                 -|                         -|962 - residential...|               null|          null|                   null|                     null|       null|              null|                                  null|          null|            null|                null|       null|          null|                                null|                                    null|                              null|                                null|             null|         null|              null|                  null|                   null|                                  null|                              null|                                    null|                                        null|                               null|                  3|              Nob Hill|(37.7877570000297...|\n",
       "+----------+------+--------------+--------------+--------------------+-----------------+----+-----------------+---------+-----------+----+----------------+--------+-------------+-------+-------------+--------------+--------+--------------------------+----------------------+------------------+--------------------+--------------------+-------------+-------------------+-------------------+-------------------+-------------------+-------------------+-------------------+-------------+---------------+--------------+-------------------+--------------+---------------+--------------------+-------------+-----------+--------------------+--------------------+--------------------+----+-------+---------+------------+----+-----------------+---------------------+---------+-------------+-----------+---------------+-------------------+-----------------------+-----------------------+---------------+-------------+-------------------+-----------------+----------------+--------------------+----------+--------------------+----------------------+------------------+--------------------------+--------------------+-------------------+--------------+-----------------------+-------------------------+-----------+------------------+--------------------------------------+--------------+----------------+--------------------+-----------+--------------+------------------------------------+----------------------------------------+----------------------------------+------------------------------------+-----------------+-------------+------------------+----------------------+-----------------------+--------------------------------------+----------------------------------+----------------------------------------+--------------------------------------------+-----------------------------------+-------------------+----------------------+--------------------+"
      ]
     },
     "metadata": {},
     "output_type": "display_data"
    }
   ],
   "source": [
    "display(joinedDF.limit(3))"
   ]
  },
  {
   "cell_type": "markdown",
   "metadata": {},
   "source": [
    "### Joined DF has only 1 million rows b/c inner join "
   ]
  },
  {
   "cell_type": "code",
   "execution_count": 39,
   "metadata": {},
   "outputs": [
    {
     "data": {
      "text/plain": [
       "1422640"
      ]
     },
     "execution_count": 39,
     "metadata": {},
     "output_type": "execute_result"
    }
   ],
   "source": [
    "joinedDF.count() "
   ]
  },
  {
   "cell_type": "markdown",
   "metadata": {},
   "source": [
    "### Filtering By Year and Neighborhood District"
   ]
  },
  {
   "cell_type": "code",
   "execution_count": 40,
   "metadata": {},
   "outputs": [
    {
     "data": {
      "text/plain": [
       "8621"
      ]
     },
     "execution_count": 40,
     "metadata": {},
     "output_type": "execute_result"
    }
   ],
   "source": [
    "joinedDF.filter(year('CallDateTS') == '2015').filter(col('NeighborhoodDistrict')=='Tenderloin').count()"
   ]
  },
  {
   "cell_type": "code",
   "execution_count": 41,
   "metadata": {},
   "outputs": [
    {
     "data": {
      "text/html": [
       "<table border='1'>\n",
       "<tr><th>Primary Situation</th><th>count</th></tr>\n",
       "<tr><td>700 false alarm o...</td><td>1383</td></tr>\n",
       "<tr><td>711 municipal ala...</td><td>1007</td></tr>\n",
       "<tr><td>743 smoke detecto...</td><td>572</td></tr>\n",
       "<tr><td>735 alarm system ...</td><td>569</td></tr>\n",
       "<tr><td>113 cooking fire,...</td><td>489</td></tr>\n",
       "<tr><td>500 service call,...</td><td>487</td></tr>\n",
       "<tr><td>745 alarm system ...</td><td>437</td></tr>\n",
       "<tr><td>733 smoke detecto...</td><td>405</td></tr>\n",
       "<tr><td>100 fire, other</td><td>190</td></tr>\n",
       "<tr><td>600 good intent c...</td><td>179</td></tr>\n",
       "</table>\n"
      ],
      "text/plain": [
       "+--------------------+-----+\n",
       "|   Primary Situation|count|\n",
       "+--------------------+-----+\n",
       "|700 false alarm o...| 1383|\n",
       "|711 municipal ala...| 1007|\n",
       "|743 smoke detecto...|  572|\n",
       "|735 alarm system ...|  569|\n",
       "|113 cooking fire,...|  489|\n",
       "|500 service call,...|  487|\n",
       "|745 alarm system ...|  437|\n",
       "|733 smoke detecto...|  405|\n",
       "|     100 fire, other|  190|\n",
       "|600 good intent c...|  179|\n",
       "+--------------------+-----+"
      ]
     },
     "metadata": {},
     "output_type": "display_data"
    }
   ],
   "source": [
    "display(joinedDF.filter(year('CallDateTS') == '2015').filter(col('NeighborhoodDistrict')=='Tenderloin').groupBy('Primary Situation')\n",
    "       .count().orderBy(desc(\"count\")).limit(10))"
   ]
  },
  {
   "cell_type": "markdown",
   "metadata": {},
   "source": [
    "### Most of the Calls were False Alarms\n",
    "\n",
    "### Filtering By Year '2015' and Neighborhood District 'Pacific Heights'"
   ]
  },
  {
   "cell_type": "code",
   "execution_count": 42,
   "metadata": {},
   "outputs": [
    {
     "data": {
      "text/plain": [
       "2759"
      ]
     },
     "execution_count": 42,
     "metadata": {},
     "output_type": "execute_result"
    }
   ],
   "source": [
    "joinedDF.filter(year('CallDateTS') == '2015').filter(col('NeighborhoodDistrict')=='Pacific Heights').count()"
   ]
  },
  {
   "cell_type": "code",
   "execution_count": 43,
   "metadata": {},
   "outputs": [
    {
     "data": {
      "text/html": [
       "<table border='1'>\n",
       "<tr><th>Primary Situation</th><th>count</th></tr>\n",
       "<tr><td>700 false alarm o...</td><td>633</td></tr>\n",
       "<tr><td>743 smoke detecto...</td><td>218</td></tr>\n",
       "<tr><td>111 building fire</td><td>159</td></tr>\n",
       "<tr><td>113 cooking fire,...</td><td>138</td></tr>\n",
       "<tr><td>100 fire, other</td><td>136</td></tr>\n",
       "<tr><td>733 smoke detecto...</td><td>109</td></tr>\n",
       "<tr><td>500 service call,...</td><td>108</td></tr>\n",
       "<tr><td>322 motor vehicle...</td><td>92</td></tr>\n",
       "<tr><td>745 alarm system ...</td><td>91</td></tr>\n",
       "<tr><td>740 unintentional...</td><td>89</td></tr>\n",
       "</table>\n"
      ],
      "text/plain": [
       "+--------------------+-----+\n",
       "|   Primary Situation|count|\n",
       "+--------------------+-----+\n",
       "|700 false alarm o...|  633|\n",
       "|743 smoke detecto...|  218|\n",
       "|   111 building fire|  159|\n",
       "|113 cooking fire,...|  138|\n",
       "|     100 fire, other|  136|\n",
       "|733 smoke detecto...|  109|\n",
       "|500 service call,...|  108|\n",
       "|322 motor vehicle...|   92|\n",
       "|745 alarm system ...|   91|\n",
       "|740 unintentional...|   89|\n",
       "+--------------------+-----+"
      ]
     },
     "metadata": {},
     "output_type": "display_data"
    }
   ],
   "source": [
    "display(joinedDF.filter(year('CallDateTS') == '2015').filter(col('NeighborhoodDistrict')=='Pacific Heights').groupBy('Primary Situation')\n",
    "       .count().orderBy(desc(\"count\")).limit(10))"
   ]
  },
  {
   "cell_type": "markdown",
   "metadata": {},
   "source": [
    "#### Most of the calls were false Alarms\n",
    "\n",
    "## What do Residents of Russian Hill Call the fire department for ?"
   ]
  },
  {
   "cell_type": "code",
   "execution_count": 44,
   "metadata": {},
   "outputs": [
    {
     "data": {
      "text/html": [
       "<table border='1'>\n",
       "<tr><th>Primary Situation</th><th>count</th></tr>\n",
       "<tr><td>500 service call,...</td><td>332</td></tr>\n",
       "<tr><td>700 false alarm o...</td><td>318</td></tr>\n",
       "<tr><td>711 municipal ala...</td><td>143</td></tr>\n",
       "<tr><td>111 building fire</td><td>104</td></tr>\n",
       "<tr><td>322 motor vehicle...</td><td>93</td></tr>\n",
       "<tr><td>113 cooking fire,...</td><td>79</td></tr>\n",
       "<tr><td>100 fire, other</td><td>61</td></tr>\n",
       "<tr><td>745 alarm system ...</td><td>60</td></tr>\n",
       "<tr><td>600 good intent c...</td><td>57</td></tr>\n",
       "<tr><td>323 motor vehicle...</td><td>54</td></tr>\n",
       "</table>\n"
      ],
      "text/plain": [
       "+--------------------+-----+\n",
       "|   Primary Situation|count|\n",
       "+--------------------+-----+\n",
       "|500 service call,...|  332|\n",
       "|700 false alarm o...|  318|\n",
       "|711 municipal ala...|  143|\n",
       "|   111 building fire|  104|\n",
       "|322 motor vehicle...|   93|\n",
       "|113 cooking fire,...|   79|\n",
       "|     100 fire, other|   61|\n",
       "|745 alarm system ...|   60|\n",
       "|600 good intent c...|   57|\n",
       "|323 motor vehicle...|   54|\n",
       "+--------------------+-----+"
      ]
     },
     "metadata": {},
     "output_type": "display_data"
    }
   ],
   "source": [
    "display(joinedDF.filter(year('CallDateTS') == '2015').filter(col('NeighborhoodDistrict')=='Russian Hill').groupBy('Primary Situation')\n",
    "       .count().orderBy(desc(\"count\")).limit(10))"
   ]
  },
  {
   "cell_type": "markdown",
   "metadata": {},
   "source": [
    "# Convert a Spark Dataframe to Pandas Dataframe"
   ]
  },
  {
   "cell_type": "code",
   "execution_count": 34,
   "metadata": {},
   "outputs": [],
   "source": [
    "import pandas as pd\n",
    "pandasDF = joinedDF.toPandas()"
   ]
  },
  {
   "cell_type": "code",
   "execution_count": 38,
   "metadata": {},
   "outputs": [],
   "source": [
    "pandas2019DF = joinedDF.filter(year('CallDateTS') == '2019').toPandas()"
   ]
  },
  {
   "cell_type": "code",
   "execution_count": null,
   "metadata": {},
   "outputs": [],
   "source": [
    "pandas2019DF.types()"
   ]
  },
  {
   "cell_type": "code",
   "execution_count": null,
   "metadata": {},
   "outputs": [],
   "source": [
    "pandas2019DF.head()"
   ]
  },
  {
   "cell_type": "code",
   "execution_count": null,
   "metadata": {},
   "outputs": [],
   "source": [
    "pandas2019DF.describe()"
   ]
  }
 ],
 "metadata": {
  "kernelspec": {
   "display_name": "Python 3",
   "language": "python",
   "name": "python3"
  },
  "language_info": {
   "codemirror_mode": {
    "name": "ipython",
    "version": 3
   },
   "file_extension": ".py",
   "mimetype": "text/x-python",
   "name": "python",
   "nbconvert_exporter": "python",
   "pygments_lexer": "ipython3",
   "version": "3.6.8"
  }
 },
 "nbformat": 4,
 "nbformat_minor": 2
}
